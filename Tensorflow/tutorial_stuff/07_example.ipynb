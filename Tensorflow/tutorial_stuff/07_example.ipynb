{
 "cells": [
  {
   "cell_type": "code",
   "execution_count": 2,
   "metadata": {},
   "outputs": [
    {
     "name": "stderr",
     "output_type": "stream",
     "text": [
      "2023-11-06 16:22:13.985359: I tensorflow/core/platform/cpu_feature_guard.cc:193] This TensorFlow binary is optimized with oneAPI Deep Neural Network Library (oneDNN) to use the following CPU instructions in performance-critical operations:  AVX2 FMA\n",
      "To enable them in other operations, rebuild TensorFlow with the appropriate compiler flags.\n"
     ]
    }
   ],
   "source": [
    "import os \n",
    "os.environ['TP_CPP_MIN_LOG_LEVEL'] = '2'\n",
    "\n",
    "import tensorflow as tf\n",
    "from tensorflow import keras\n",
    "import numpy as np"
   ]
  },
  {
   "cell_type": "code",
   "execution_count": 3,
   "metadata": {},
   "outputs": [],
   "source": [
    "# Define functional model\n",
    "inputs = keras.Input(shape=(28,28))\n",
    "flatten = keras.layers.Flatten()\n",
    "dense1 = keras.layers.Dense(128, activation='relu')\n",
    "\n",
    "dense2 = keras.layers.Dense(10, activation='softmax', name='category_output')\n",
    "dense3 = keras.layers.Dense(1, activation='sigmoid', name='leftright_output')"
   ]
  },
  {
   "cell_type": "code",
   "execution_count": 4,
   "metadata": {},
   "outputs": [
    {
     "name": "stderr",
     "output_type": "stream",
     "text": [
      "2023-11-06 16:39:18.699923: I tensorflow/core/platform/cpu_feature_guard.cc:193] This TensorFlow binary is optimized with oneAPI Deep Neural Network Library (oneDNN) to use the following CPU instructions in performance-critical operations:  AVX2 FMA\n",
      "To enable them in other operations, rebuild TensorFlow with the appropriate compiler flags.\n"
     ]
    }
   ],
   "source": [
    "x = flatten(inputs)\n",
    "x = dense1(x)\n",
    "outputs1 = dense2(x)\n",
    "outputs2 = dense3(x)\n",
    "\n",
    "model = keras.Model(inputs=inputs, outputs=[outputs1, outputs2], name='mnist_model')"
   ]
  },
  {
   "cell_type": "code",
   "execution_count": 5,
   "metadata": {},
   "outputs": [
    {
     "name": "stdout",
     "output_type": "stream",
     "text": [
      "Model: \"mnist_model\"\n",
      "__________________________________________________________________________________________________\n",
      " Layer (type)                   Output Shape         Param #     Connected to                     \n",
      "==================================================================================================\n",
      " input_1 (InputLayer)           [(None, 28, 28)]     0           []                               \n",
      "                                                                                                  \n",
      " flatten (Flatten)              (None, 784)          0           ['input_1[0][0]']                \n",
      "                                                                                                  \n",
      " dense (Dense)                  (None, 128)          100480      ['flatten[0][0]']                \n",
      "                                                                                                  \n",
      " category_output (Dense)        (None, 10)           1290        ['dense[0][0]']                  \n",
      "                                                                                                  \n",
      " leftright_output (Dense)       (None, 1)            129         ['dense[0][0]']                  \n",
      "                                                                                                  \n",
      "==================================================================================================\n",
      "Total params: 101,899\n",
      "Trainable params: 101,899\n",
      "Non-trainable params: 0\n",
      "__________________________________________________________________________________________________\n"
     ]
    }
   ],
   "source": [
    "model.summary()"
   ]
  },
  {
   "cell_type": "code",
   "execution_count": 7,
   "metadata": {},
   "outputs": [],
   "source": [
    "# loss and optimizer\n",
    "\n",
    "loss1 = keras.losses.SparseCategoricalCrossentropy(from_logits=False)\n",
    "loss2 = keras.losses.BinaryCrossentropy(from_logits=False)\n",
    "optim = keras.optimizers.Adam(learning_rate=0.001)\n",
    "mertrics = ['accuracy']\n",
    "\n",
    "losses = {\n",
    "    'category_output':loss1,\n",
    "    'leftright_output':loss2\n",
    "}\n",
    "\n",
    "model.compile(loss=losses, optimizer=optim, metrics=mertrics)"
   ]
  },
  {
   "cell_type": "code",
   "execution_count": 10,
   "metadata": {},
   "outputs": [
    {
     "name": "stdout",
     "output_type": "stream",
     "text": [
      "uint8 [5 0 4 1 9 2 1 3 1 4 3 5 3 6 1 7 2 8 6 9]\n",
      "uint8 [0 0 0 0 1 0 0 0 0 0 0 0 0 1 0 1 0 1 1 1]\n"
     ]
    }
   ],
   "source": [
    "# create data with 2 labels\n",
    "mnist = keras.datasets.mnist\n",
    "(X_train, y_train), (X_test, y_test) = mnist.load_data()\n",
    "x_train, x_test = X_train/255.0, X_test/255.0\n",
    "\n",
    "# 0=left, 1=right\n",
    "y_leftright = np.zeros(y_train.shape, dtype=np.uint8)\n",
    "for idx, y in enumerate(y_train):\n",
    "    if y > 5:\n",
    "        y_leftright[idx] = 1\n",
    "print(y_train.dtype, y_train[0:20])\n",
    "print(y_leftright.dtype, y_leftright[0:20])\n",
    "\n",
    "y = {'category_output':y_train,\n",
    "'leftright_output':y_leftright}"
   ]
  },
  {
   "cell_type": "code",
   "execution_count": 11,
   "metadata": {},
   "outputs": [
    {
     "name": "stdout",
     "output_type": "stream",
     "text": [
      "Epoch 1/5\n",
      "938/938 - 5s - loss: 5.1907 - category_output_loss: 3.5746 - leftright_output_loss: 1.6161 - category_output_accuracy: 0.8530 - leftright_output_accuracy: 0.9042 - 5s/epoch - 5ms/step\n",
      "Epoch 2/5\n",
      "938/938 - 3s - loss: 0.6406 - category_output_loss: 0.4686 - leftright_output_loss: 0.1719 - category_output_accuracy: 0.9028 - leftright_output_accuracy: 0.9435 - 3s/epoch - 4ms/step\n",
      "Epoch 3/5\n",
      "938/938 - 4s - loss: 0.4359 - category_output_loss: 0.3173 - leftright_output_loss: 0.1186 - category_output_accuracy: 0.9268 - leftright_output_accuracy: 0.9568 - 4s/epoch - 4ms/step\n",
      "Epoch 4/5\n",
      "938/938 - 4s - loss: 0.3365 - category_output_loss: 0.2432 - leftright_output_loss: 0.0932 - category_output_accuracy: 0.9389 - leftright_output_accuracy: 0.9655 - 4s/epoch - 4ms/step\n",
      "Epoch 5/5\n",
      "938/938 - 4s - loss: 0.2890 - category_output_loss: 0.2098 - leftright_output_loss: 0.0791 - category_output_accuracy: 0.9466 - leftright_output_accuracy: 0.9715 - 4s/epoch - 4ms/step\n"
     ]
    },
    {
     "data": {
      "text/plain": [
       "<keras.callbacks.History at 0x7fe7868e96a0>"
      ]
     },
     "execution_count": 11,
     "metadata": {},
     "output_type": "execute_result"
    }
   ],
   "source": [
    "# Training\n",
    "\n",
    "model.fit(x=X_train, y=y, epochs=5, batch_size=64, verbose=2)"
   ]
  },
  {
   "cell_type": "code",
   "execution_count": 12,
   "metadata": {},
   "outputs": [
    {
     "name": "stdout",
     "output_type": "stream",
     "text": [
      "313/313 [==============================] - 1s 2ms/step\n"
     ]
    },
    {
     "data": {
      "text/plain": [
       "2"
      ]
     },
     "execution_count": 12,
     "metadata": {},
     "output_type": "execute_result"
    }
   ],
   "source": [
    "predictions = model.predict(X_test)\n",
    "len(predictions)"
   ]
  },
  {
   "cell_type": "code",
   "execution_count": 13,
   "metadata": {},
   "outputs": [],
   "source": [
    "predictions_category = predictions[0]\n",
    "predictions_lr = predictions[1]\n",
    "\n",
    "pr_cat = predictions_category[0:20]\n",
    "pr_lr = predictions_lr[0:20]\n",
    "\n",
    "labels_cat = np.argmax(pr_cat, axis=1)\n",
    "labels_lr = np.array([1 if p >= 0.5 else 0 for p in predictions_lr])"
   ]
  },
  {
   "cell_type": "code",
   "execution_count": 14,
   "metadata": {},
   "outputs": [
    {
     "name": "stdout",
     "output_type": "stream",
     "text": [
      "[7 2 1 0 4 1 4 9 5 9 0 6 9 0 1 5 9 7 3 4]\n",
      "[7 2 1 0 4 1 4 9 6 9 0 6 9 0 1 5 9 7 8 4]\n",
      "[1 0 0 ... 0 0 1]\n"
     ]
    }
   ],
   "source": [
    "print(y_test[0:20])\n",
    "print(labels_cat)\n",
    "print(labels_lr)"
   ]
  }
 ],
 "metadata": {
  "kernelspec": {
   "display_name": "Python 3.9.12 ('base')",
   "language": "python",
   "name": "python3"
  },
  "language_info": {
   "codemirror_mode": {
    "name": "ipython",
    "version": 3
   },
   "file_extension": ".py",
   "mimetype": "text/x-python",
   "name": "python",
   "nbconvert_exporter": "python",
   "pygments_lexer": "ipython3",
   "version": "3.9.12"
  },
  "orig_nbformat": 4,
  "vscode": {
   "interpreter": {
    "hash": "a0929711d380e35192f4cb7fc35982659e488768c1797b656fc22286d7128f20"
   }
  }
 },
 "nbformat": 4,
 "nbformat_minor": 2
}
