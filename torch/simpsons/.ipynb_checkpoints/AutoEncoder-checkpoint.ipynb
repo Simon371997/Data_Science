{
 "cells": [
  {
   "cell_type": "code",
   "execution_count": 1,
   "id": "72754962",
   "metadata": {},
   "outputs": [
    {
     "name": "stderr",
     "output_type": "stream",
     "text": [
      "2023-10-24 10:58:05.424278: I tensorflow/core/platform/cpu_feature_guard.cc:193] This TensorFlow binary is optimized with oneAPI Deep Neural Network Library (oneDNN) to use the following CPU instructions in performance-critical operations:  AVX2 AVX512F AVX512_VNNI FMA\n",
      "To enable them in other operations, rebuild TensorFlow with the appropriate compiler flags.\n"
     ]
    }
   ],
   "source": [
    "# Allgemein\n",
    "import os\n",
    "import os.path\n",
    "import shutil\n",
    "from pathlib import Path\n",
    "import pandas as pd\n",
    "import time\n",
    "\n",
    "# Visualization\n",
    "from PIL import Image\n",
    "import matplotlib.pyplot as plt\n",
    "import seaborn as sns\n",
    "\n",
    "# Modeling\n",
    "from sklearn.model_selection import train_test_split\n",
    "from torchvision import datasets, transforms\n",
    "import torch\n",
    "import torch.nn as nn\n",
    "import torch.nn.functional as F\n",
    "import torch.optim as optim\n",
    "import numpy as np\n",
    "import tensorflow as tf\n",
    "from tensorflow.keras.models import Sequential\n",
    "from tensorflow.keras.layers import Conv2D, MaxPooling2D, UpSampling2D\n",
    "from sklearn.metrics import classification_report"
   ]
  },
  {
   "cell_type": "code",
   "execution_count": 7,
   "id": "4a197994",
   "metadata": {},
   "outputs": [],
   "source": [
    "\n",
    "transform = transforms.Compose([transforms.Resize((64, 64)), transforms.ToTensor(),\n",
    "                               transforms.Normalize(mean=(0.5, 0.5, 0.5), std = (0.5, 0.5, 0.5))])\n",
    "\n",
    "dataset = datasets.ImageFolder(root = './data/train_dataset', transform = transform)\n",
    "\n",
    "rest_data, test_data = train_test_split(dataset, test_size = 0.2, random_state = 97)\n",
    "train_data, val_data = train_test_split(rest_data, test_size = 0.1, random_state = 97)\n",
    "\n",
    "classes = dataset.classes\n"
   ]
  },
  {
   "cell_type": "code",
   "execution_count": 8,
   "id": "b87e46a0",
   "metadata": {},
   "outputs": [],
   "source": [
    "# Hyperparameter\n",
    "IN_CHANNELS = 3\n",
    "BATCH_SIZE = 4\n",
    "NUM_EPOCHS = 8\n",
    "NUM_CLASSES = len(classes)\n",
    "LEARNING_RATE = 0.001"
   ]
  },
  {
   "cell_type": "code",
   "execution_count": 9,
   "id": "247b9ba5",
   "metadata": {},
   "outputs": [],
   "source": [
    "# Mit besserer CPU kann num_workers auch hoch gestellt werden\n",
    "train_loader = torch.utils.data.DataLoader(train_data, batch_size=BATCH_SIZE, shuffle=True, num_workers=2)\n",
    "val_loader = torch.utils.data.DataLoader(val_data, batch_size=BATCH_SIZE, shuffle=False, num_workers=2)\n",
    "test_loader = torch.utils.data.DataLoader(test_data, batch_size=BATCH_SIZE, shuffle=False, num_workers=2)"
   ]
  },
  {
   "cell_type": "markdown",
   "id": "85e1385e",
   "metadata": {},
   "source": [
    "#### Formel für Veränderung des Bildes:\n",
    "O = Ausgabe, W = Eingabe, F = Filter(Kernel), P = Padding, S = Stride\n",
    "O = (W-F+2P)/S + 1"
   ]
  },
  {
   "cell_type": "code",
   "execution_count": null,
   "id": "a70933b0",
   "metadata": {},
   "outputs": [],
   "source": [
    "class autoencoder_torch(nn.Module):\n",
    "    def __init__(self, input_channels, classes):\n",
    "        super(self, autoencoder_torch).__init__()\n",
    "        \n",
    "        #Encoder\n",
    "        \n",
    "        "
   ]
  },
  {
   "cell_type": "code",
   "execution_count": null,
   "id": "f1aa663d",
   "metadata": {},
   "outputs": [],
   "source": []
  }
 ],
 "metadata": {
  "kernelspec": {
   "display_name": "Python 3 (ipykernel)",
   "language": "python",
   "name": "python3"
  },
  "language_info": {
   "codemirror_mode": {
    "name": "ipython",
    "version": 3
   },
   "file_extension": ".py",
   "mimetype": "text/x-python",
   "name": "python",
   "nbconvert_exporter": "python",
   "pygments_lexer": "ipython3",
   "version": "3.9.12"
  }
 },
 "nbformat": 4,
 "nbformat_minor": 5
}
